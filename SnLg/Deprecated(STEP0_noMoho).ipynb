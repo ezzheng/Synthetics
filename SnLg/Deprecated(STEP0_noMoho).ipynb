{
 "cells": [
  {
   "cell_type": "markdown",
   "metadata": {},
   "source": [
    "# Prepare Catalog"
   ]
  },
  {
   "cell_type": "code",
   "execution_count": 4,
   "metadata": {},
   "outputs": [
    {
     "name": "stdout",
     "output_type": "stream",
     "text": [
      "24\n",
      "                  event_time  event_mag  event_lat  event_lon  event_dep\n",
      "0   2008-08-20T22:03:30.100Z        NaN  30.318046  80.185376      51.80\n",
      "1   2008-09-04T12:53:11.140Z        NaN  30.186267  80.030542      41.01\n",
      "2   2008-12-31T15:46:21.470Z        NaN  31.802920  79.577938      51.61\n",
      "3   2008-12-31T16:12:19.890Z        NaN  31.789156  79.594832      54.09\n",
      "4   2009-02-14T16:27:59.130Z        NaN  30.092619  80.257267      52.99\n",
      "5   2009-09-26T19:51:17.300Z        NaN  29.941907  81.941805      67.89\n",
      "6   2009-10-20T19:21:17.500Z        NaN  31.543186  82.119971      47.50\n",
      "7   2009-10-25T01:23:10.600Z        NaN  31.332928  82.428947      56.03\n",
      "8   2009-11-01T08:50:31.550Z        NaN  30.047555  81.594556      63.68\n",
      "9   2009-11-08T19:29:36.240Z        NaN  30.053328  81.545182      65.83\n",
      "10  2009-12-16T06:12:59.990Z        NaN  29.617059  81.265275      49.70\n",
      "11  2010-01-05T15:04:26.810Z        NaN  29.911941  79.788794      77.63\n",
      "12  2010-01-07T03:48:39.030Z        NaN  31.534086  82.613851      74.81\n",
      "13  2010-03-15T20:17:16.350Z        NaN  30.839217  81.867155      59.11\n",
      "14  2010-03-15T20:23:29.450Z        NaN  30.833797  82.075203      63.53\n",
      "15  2010-03-15T20:40:31.070Z        NaN  30.863436  81.836475      60.75\n",
      "16  2010-03-20T23:26:43.300Z        NaN  30.151449  79.648950      90.94\n",
      "17  2010-05-01T22:36:29.820Z        NaN  29.807686  79.393132      80.19\n",
      "18  2010-07-04T02:35:57.990Z        NaN  29.577124  80.291162      66.21\n",
      "19  2010-11-13T03:03:50.850Z        NaN  32.730261  81.901351      41.35\n",
      "20  2011-03-23T01:48:18.650Z        NaN  31.383140  83.303263      40.43\n",
      "21  2011-05-04T20:57:18.360Z        NaN  30.098958  80.024341      93.37\n",
      "22  2011-05-04T21:43:19.300Z        NaN  30.182410  80.126709      51.68\n",
      "23  2011-05-08T01:26:26.900Z        NaN  30.170947  80.117448      48.28\n"
     ]
    }
   ],
   "source": [
    "import pandas as pd\n",
    "\n",
    "df= pd.read_csv(\"Tibet.csv\")\n",
    "df.rename(columns={'time':'event_time','magnitude':'event_mag','latitude':'event_lat','longitude':'event_lon','depth':'event_dep'},inplace=True)\n",
    "\n",
    "# Specify the columns to keep\n",
    "columns_to_keep = ['event_time', 'event_mag', 'event_lat', 'event_lon', 'event_dep']\n",
    "df_subset = df[columns_to_keep].copy()\n",
    "\n",
    "# Filter for events with depth greater than 20\n",
    "mask_depth = df_subset['event_dep'] > 20\n",
    "\n",
    "# Combine the masks to apply both filters\n",
    "filtered_df = df_subset[mask_depth]\n",
    "print(len(filtered_df))\n",
    "\n",
    "# Display the first few rows of the resulting DataFrame\n",
    "cata_df=filtered_df\n",
    "print(cata_df)\n",
    "\n",
    "cata_df.to_csv(f\"./Inputs/Tibet.csv\",index=False)"
   ]
  },
  {
   "cell_type": "code",
   "execution_count": null,
   "metadata": {},
   "outputs": [],
   "source": []
  }
 ],
 "metadata": {
  "kernelspec": {
   "display_name": "synthetics",
   "language": "python",
   "name": "python3"
  },
  "language_info": {
   "codemirror_mode": {
    "name": "ipython",
    "version": 3
   },
   "file_extension": ".py",
   "mimetype": "text/x-python",
   "name": "python",
   "nbconvert_exporter": "python",
   "pygments_lexer": "ipython3",
   "version": "3.9.21"
  }
 },
 "nbformat": 4,
 "nbformat_minor": 4
}
